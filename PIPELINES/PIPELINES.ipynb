{
 "cells": [
  {
   "cell_type": "code",
   "execution_count": 2,
   "id": "1fc109ce-f220-4569-b7cc-03a76397037f",
   "metadata": {},
   "outputs": [],
   "source": [
    "import random\n",
    "from typing import Tuple, List\n",
    "from dataclasses import dataclass\n",
    "import matplotlib.pyplot as plt\n",
    "from ipywidgets import interact, Checkbox"
   ]
  },
  {
   "cell_type": "markdown",
   "id": "3a7da0f3-4722-437e-a344-5bb97165841d",
   "metadata": {},
   "source": [
    "Crea el diccionario con nombres de estudiantes y coordenadas de sus casas"
   ]
  },
  {
   "cell_type": "code",
   "execution_count": 3,
   "id": "1cb96adb-aebc-4672-8880-2beaef18c8d6",
   "metadata": {},
   "outputs": [],
   "source": [
    "ESTUDIANTES = {\n",
    "    \"John Smith\": (0, 0),\n",
    "    \"Emily Davis\": (0, 1),\n",
    "    \"Michael Johnson\": (0, 2),\n",
    "    \"Sarah Wilson\": (1, 0),\n",
    "    \"Chris Brown\": (1, 2),\n",
    "    \"Anna Taylor\": (2, 0),\n",
    "    \"David Anderson\": (2, 1),\n",
    "    \"Jessica White\": (2, 2)\n",
    "}"
   ]
  },
  {
   "cell_type": "markdown",
   "id": "ce530a63-23d5-4a75-8ae2-6bbf17080d16",
   "metadata": {},
   "source": [
    "Estructura de datos para estudiante y clase para Estudiantes"
   ]
  },
  {
   "cell_type": "code",
   "execution_count": 5,
   "id": "c3bae44b-946a-4057-9b69-e4af1ba69eae",
   "metadata": {},
   "outputs": [],
   "source": [
    "@dataclass\n",
    "class Estudiante:\n",
    "    nombre: str\n",
    "    coordenadas: Tuple[int, int]\n",
    "    saludAceptable: bool\n",
    "\n",
    "class Estudiantes:\n",
    "    listaDeEstudiantes: List[Estudiante]\n",
    "    def __init__(self):\n",
    "        self.lista = [\n",
    "            Estudiante(nombre, coordenadas, saludAceptable=random.choice([True, False])) for nombre, coordenadas in ESTUDIANTES.items()\n",
    "        ]\n",
    "    def actualizar(self):\n",
    "        self.lista = [\n",
    "            Estudiante(nombre, coordenadas, saludAceptable=random.choice([True, False])) for nombre, coordenadas in ESTUDIANTES.items()\n",
    "        ]"
   ]
  },
  {
   "cell_type": "markdown",
   "id": "f1870816-8df3-4f9f-b0fb-4c285afe3d00",
   "metadata": {},
   "source": [
    "Crea estudiantes iniciales"
   ]
  },
  {
   "cell_type": "code",
   "execution_count": 6,
   "id": "f607af3d-df42-4e2d-bf2a-582708618cf3",
   "metadata": {},
   "outputs": [],
   "source": [
    "estudiantes = Estudiantes();\n",
    "climaAceptable = random.choice([True, False])"
   ]
  },
  {
   "cell_type": "markdown",
   "id": "68a660aa-1249-486d-97e6-78707bfaaa4a",
   "metadata": {},
   "source": [
    "Filtros de la pipeline"
   ]
  },
  {
   "cell_type": "code",
   "execution_count": 7,
   "id": "70a4913b-7f3c-4c0f-9275-531cdababd06",
   "metadata": {},
   "outputs": [],
   "source": [
    "# Estudiante es la interfaz\n",
    "def estudianteSano(estudiante: Estudiante) -> bool:\n",
    "    return estudiante.saludAceptable\n",
    "# Estudiante es la interfaz\n",
    "def descansar(estudiante: Estudiante):\n",
    "    estudiante.saludAceptable = True\n",
    "\n",
    "# Estudiante es la interfaz\n",
    "def aEscuela(estudiante: Estudiante):\n",
    "    estudiante.coordenadas = (1, 1)"
   ]
  },
  {
   "cell_type": "markdown",
   "id": "2fa26fa4-f290-4a99-a418-2a4251766364",
   "metadata": {},
   "source": [
    "Pipeline"
   ]
  },
  {
   "cell_type": "code",
   "execution_count": 8,
   "id": "262e8b8a-be24-4f3c-adc3-16158d355ee4",
   "metadata": {},
   "outputs": [],
   "source": [
    "def grafiqueEstudiantes(horaDeIrAlColegio: bool = False):\n",
    "\n",
    "    # Inicio de la pipeline\n",
    "    global climaAceptable, estudiantes\n",
    "    # Filtro inicial activador\n",
    "    if not horaDeIrAlColegio:\n",
    "        climaAceptable = random.choice([True, False])\n",
    "        estudiantes.actualizar()\n",
    "    else:\n",
    "        # Una pipe para cada estudiante\n",
    "        for estudiante in estudiantes.lista:\n",
    "            # Primer filtro, si el clima es aceptable y el \"estudiante\" está deber ir a la Escuela\n",
    "            if climaAceptable and estudianteSano(estudiante):\n",
    "                aEscuela(estudiante)    # El output de este filtro es el \"estudiante\" input pero con coordenadas en la escuela\n",
    "            else: descansar(estudiante) # Esta bifurcación para un clima inaceptable o\n",
    "                                        # un estudiante enfermo cambia el \"estudiante\"\n",
    "                                        # input para que descanse y sane si está enfermo\n",
    "    # Fin de la pipeline\n",
    "\n",
    "    # Crea gráfica\n",
    "    plt.figure(figsize=(6, 6))\n",
    "    plt.xlim(-1, 3)\n",
    "    plt.ylim(-1, 3)\n",
    "    plt.xticks(range(3))\n",
    "    plt.yticks(range(3))\n",
    "    plt.grid(True)\n",
    "    plt.title(\"Movimiento de Estudiantes a la Escuela\")\n",
    "    plt.suptitle(\"Clima \" + f'{\"\" if climaAceptable else \"in\"}' + \"aceptable\")\n",
    "\n",
    "    # Agrega la escuela a la gráfica\n",
    "    plt.plot(1, 1, 'ro', markersize=10, label='Escuela')\n",
    "\n",
    "    # Agrega\n",
    "    for estudiante in estudiantes.lista:\n",
    "        plt.plot(\n",
    "            estudiante.coordenadas[0], \n",
    "            estudiante.coordenadas[1], \n",
    "            'o', \n",
    "            color='blue' if estudiante.saludAceptable else 'gray', \n",
    "            markersize=5, \n",
    "            label=estudiante.nombre\n",
    "        )\n",
    "\n",
    "    plt.legend(\n",
    "        bbox_to_anchor=(1.05, 1),\n",
    "        loc='upper left',\n",
    "        borderaxespad=0.\n",
    "    )\n",
    "    plt.show()"
   ]
  },
  {
   "cell_type": "markdown",
   "id": "6aa5f711-ec6f-42fb-834b-a412ab2f1fa4",
   "metadata": {},
   "source": [
    "Note que la pipeline tiene cero interactividad, es claro lo que pasará, outputs sirven como inputs y las interfaces son homogéneas"
   ]
  },
  {
   "cell_type": "markdown",
   "id": "27bea482-920b-4229-85e6-f65dcaa814f4",
   "metadata": {},
   "source": [
    "Inicializador interactivo"
   ]
  },
  {
   "cell_type": "code",
   "execution_count": 9,
   "id": "bb0d5165-ba11-472f-a62a-e78a4045112f",
   "metadata": {},
   "outputs": [
    {
     "data": {
      "application/vnd.jupyter.widget-view+json": {
       "model_id": "42ce27774a95487eabf5d6d12282ea82",
       "version_major": 2,
       "version_minor": 0
      },
      "text/plain": [
       "interactive(children=(Checkbox(value=False, description='Hora de ir al colegio:'), Output()), _dom_classes=('w…"
      ]
     },
     "metadata": {},
     "output_type": "display_data"
    },
    {
     "data": {
      "text/plain": [
       "<function __main__.grafiqueEstudiantes(horaDeIrAlColegio: bool = False)>"
      ]
     },
     "execution_count": 9,
     "metadata": {},
     "output_type": "execute_result"
    }
   ],
   "source": [
    "interact(\n",
    "    grafiqueEstudiantes,\n",
    "    horaDeIrAlColegio=Checkbox(value=False, description='Hora de ir al colegio:')\n",
    ")"
   ]
  },
  {
   "cell_type": "code",
   "execution_count": null,
   "id": "386cde70-c796-45e5-aaa0-672ed4c6a10e",
   "metadata": {},
   "outputs": [],
   "source": []
  }
 ],
 "metadata": {
  "kernelspec": {
   "display_name": "Python 3 (ipykernel)",
   "language": "python",
   "name": "python3"
  },
  "language_info": {
   "codemirror_mode": {
    "name": "ipython",
    "version": 3
   },
   "file_extension": ".py",
   "mimetype": "text/x-python",
   "name": "python",
   "nbconvert_exporter": "python",
   "pygments_lexer": "ipython3",
   "version": "3.11.2"
  }
 },
 "nbformat": 4,
 "nbformat_minor": 5
}
