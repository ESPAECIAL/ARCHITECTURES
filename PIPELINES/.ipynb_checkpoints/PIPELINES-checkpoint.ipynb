{
 "cells": [
  {
   "cell_type": "code",
   "execution_count": 1,
   "id": "1fc109ce-f220-4569-b7cc-03a76397037f",
   "metadata": {},
   "outputs": [],
   "source": [
    "import random\n",
    "from typing import Tuple, List\n",
    "from dataclasses import dataclass\n",
    "import matplotlib.pyplot as plt\n",
    "from ipywidgets import interact, Checkbox"
   ]
  },
  {
   "cell_type": "markdown",
   "id": "3a7da0f3-4722-437e-a344-5bb97165841d",
   "metadata": {},
   "source": [
    "Crea el diccionario con nombres de estudiantes y coordenadas de sus casas"
   ]
  },
  {
   "cell_type": "code",
   "execution_count": 2,
   "id": "1cb96adb-aebc-4672-8880-2beaef18c8d6",
   "metadata": {},
   "outputs": [],
   "source": [
    "ESTUDIANTES = {\n",
    "    \"John Smith\": (0, 0),\n",
    "    \"Emily Davis\": (0, 1),\n",
    "    \"Michael Johnson\": (0, 2),\n",
    "    \"Sarah Wilson\": (1, 0),\n",
    "    \"Chris Brown\": (1, 2),\n",
    "    \"Anna Taylor\": (2, 0),\n",
    "    \"David Anderson\": (2, 1),\n",
    "    \"Jessica White\": (2, 2)\n",
    "}"
   ]
  },
  {
   "cell_type": "markdown",
   "id": "ce530a63-23d5-4a75-8ae2-6bbf17080d16",
   "metadata": {},
   "source": [
    "Estructura de datos para estudiante y clase para Estudiantes"
   ]
  },
  {
   "cell_type": "code",
   "execution_count": 3,
   "id": "c3bae44b-946a-4057-9b69-e4af1ba69eae",
   "metadata": {},
   "outputs": [],
   "source": [
    "@dataclass\n",
    "class Estudiante:\n",
    "    nombre: str\n",
    "    coordenadas: Tuple[int, int]\n",
    "    saludAceptable: bool\n",
    "\n",
    "class Estudiantes:\n",
    "    listaDeEstudiantes: List[Estudiante]\n",
    "    def __init__(self):\n",
    "        self.lista = [\n",
    "            Estudiante(nombre, coordenadas, saludAceptable=random.choice([True, False])) for nombre, coordenadas in ESTUDIANTES.items()\n",
    "        ]\n",
    "    def actualizar(self):\n",
    "        self.lista = [\n",
    "            Estudiante(nombre, coordenadas, saludAceptable=random.choice([True, False])) for nombre, coordenadas in ESTUDIANTES.items()\n",
    "        ]"
   ]
  },
  {
   "cell_type": "markdown",
   "id": "f1870816-8df3-4f9f-b0fb-4c285afe3d00",
   "metadata": {},
   "source": [
    "Crea estudiantes iniciales"
   ]
  },
  {
   "cell_type": "code",
   "execution_count": 4,
   "id": "f607af3d-df42-4e2d-bf2a-582708618cf3",
   "metadata": {},
   "outputs": [],
   "source": [
    "estudiantes = Estudiantes();\n",
    "climaAceptable = random.choice([True, False])"
   ]
  },
  {
   "cell_type": "markdown",
   "id": "68a660aa-1249-486d-97e6-78707bfaaa4a",
   "metadata": {},
   "source": [
    "Filtros de la pipeline"
   ]
  },
  {
   "cell_type": "code",
   "execution_count": 5,
   "id": "70a4913b-7f3c-4c0f-9275-531cdababd06",
   "metadata": {},
   "outputs": [],
   "source": [
    "# Estudiante es la interfaz\n",
    "def estudianteSano(estudiante: Estudiante) -> bool:\n",
    "    return estudiante.saludAceptable\n",
    "# Estudiante es la interfaz\n",
    "def descansar(estudiante: Estudiante):\n",
    "    estudiante.saludAceptable = True\n",
    "\n",
    "# Estudiante es la interfaz\n",
    "def aEscuela(estudiante: Estudiante):\n",
    "    estudiante.coordenadas = (1, 1)"
   ]
  },
  {
   "cell_type": "markdown",
   "id": "2fa26fa4-f290-4a99-a418-2a4251766364",
   "metadata": {},
   "source": [
    "Pipeline"
   ]
  },
  {
   "cell_type": "code",
   "execution_count": 6,
   "id": "262e8b8a-be24-4f3c-adc3-16158d355ee4",
   "metadata": {},
   "outputs": [],
   "source": [
    "def grafiqueEstudiantes(horaDeIrAlColegio: bool = False):\n",
    "\n",
    "    # Inicio de la pipeline\n",
    "    global climaAceptable, estudiantes\n",
    "    # Filtro inicial activador\n",
    "    if not horaDeIrAlColegio:\n",
    "        climaAceptable = random.choice([True, False])\n",
    "        estudiantes.actualizar()\n",
    "    else:\n",
    "        # Una pipe para cada estudiante\n",
    "        for estudiante in estudiantes.lista:\n",
    "            # Primer filtro, si el clima es aceptable y el \"estudiante\" está deber ir a la Escuela\n",
    "            if climaAceptable and estudianteSano(estudiante):\n",
    "                aEscuela(estudiante)    # El output de este filtro es el \"estudiante\" input pero con coordenadas en la escuela\n",
    "            else: descansar(estudiante) # Esta bifurcación para un clima inaceptable o\n",
    "                                        # un estudiante enfermo cambia el \"estudiante\"\n",
    "                                        # input para que descanse y sane si está enfermo\n",
    "    # Fin de la pipeline\n",
    "\n",
    "    # Crea gráfica\n",
    "    plt.figure(figsize=(6, 6))\n",
    "    plt.xlim(-1, 3)\n",
    "    plt.ylim(-1, 3)\n",
    "    plt.xticks(range(3))\n",
    "    plt.yticks(range(3))\n",
    "    plt.grid(True)\n",
    "    plt.title(\"Movimiento de Estudiantes a la Escuela\")\n",
    "    plt.suptitle(\"Clima \" + f'{\"\" if climaAceptable else \"in\"}' + \"aceptable\")\n",
    "\n",
    "    # Agrega la escuela a la gráfica\n",
    "    plt.plot(1, 1, 'ro', markersize=10, label='Escuela')\n",
    "\n",
    "    # Agrega\n",
    "    for estudiante in estudiantes.lista:\n",
    "        plt.plot(\n",
    "            estudiante.coordenadas[0], \n",
    "            estudiante.coordenadas[1], \n",
    "            'o', \n",
    "            color='blue' if estudiante.saludAceptable else 'gray', \n",
    "            markersize=5, \n",
    "            label=estudiante.nombre\n",
    "        )\n",
    "\n",
    "    plt.legend(\n",
    "        bbox_to_anchor=(1.05, 1),\n",
    "        loc='upper left',\n",
    "        borderaxespad=0.\n",
    "    )\n",
    "    plt.show()"
   ]
  },
  {
   "cell_type": "markdown",
   "id": "6aa5f711-ec6f-42fb-834b-a412ab2f1fa4",
   "metadata": {},
   "source": [
    "Note que la pipeline tiene cero interactividad, es claro lo que pasará, outputs sirven como inputs y las interfaces son homogéneas"
   ]
  },
  {
   "cell_type": "markdown",
   "id": "27bea482-920b-4229-85e6-f65dcaa814f4",
   "metadata": {},
   "source": [
    "Inicializador de proceso"
   ]
  },
  {
   "cell_type": "code",
   "execution_count": 7,
   "id": "bb0d5165-ba11-472f-a62a-e78a4045112f",
   "metadata": {},
   "outputs": [
    {
     "name": "stderr",
     "output_type": "stream",
     "text": [
      "Widget Javascript not detected.  It may not be installed or enabled properly. Reconnecting the current kernel may help.\n"
     ]
    },
    {
     "data": {
      "application/vnd.jupyter.widget-view+json": {
       "model_id": "98a30f97d4784bcea5ebc7d9bded28a4"
      }
     },
     "metadata": {},
     "output_type": "display_data"
    },
    {
     "data": {
      "text/plain": [
       "<function __main__.grafiqueEstudiantes(horaDeIrAlColegio: bool = False)>"
      ]
     },
     "execution_count": 7,
     "metadata": {},
     "output_type": "execute_result"
    }
   ],
   "source": [
    "interact(\n",
    "    grafiqueEstudiantes,\n",
    "    horaDeIrAlColegio=Checkbox(value=False, description='Hora de ir al colegio:')\n",
    ")"
   ]
  },
  {
   "cell_type": "code",
   "execution_count": 8,
   "id": "386cde70-c796-45e5-aaa0-672ed4c6a10e",
   "metadata": {},
   "outputs": [
    {
     "ename": "ModuleNotFoundError",
     "evalue": "No module named 'watermark'",
     "output_type": "error",
     "traceback": [
      "\u001b[0;31m---------------------------------------------------------------------------\u001b[0m",
      "\u001b[0;31mModuleNotFoundError\u001b[0m                       Traceback (most recent call last)",
      "Cell \u001b[0;32mIn [8], line 1\u001b[0m\n\u001b[0;32m----> 1\u001b[0m \u001b[43mget_ipython\u001b[49m\u001b[43m(\u001b[49m\u001b[43m)\u001b[49m\u001b[38;5;241;43m.\u001b[39;49m\u001b[43mrun_line_magic\u001b[49m\u001b[43m(\u001b[49m\u001b[38;5;124;43m'\u001b[39;49m\u001b[38;5;124;43mload_ext\u001b[39;49m\u001b[38;5;124;43m'\u001b[39;49m\u001b[43m,\u001b[49m\u001b[43m \u001b[49m\u001b[38;5;124;43m'\u001b[39;49m\u001b[38;5;124;43mwatermark\u001b[39;49m\u001b[38;5;124;43m'\u001b[39;49m\u001b[43m)\u001b[49m\n\u001b[1;32m      2\u001b[0m get_ipython()\u001b[38;5;241m.\u001b[39mrun_line_magic(\u001b[38;5;124m'\u001b[39m\u001b[38;5;124mwatermark\u001b[39m\u001b[38;5;124m'\u001b[39m, \u001b[38;5;124m'\u001b[39m\u001b[38;5;124m-v -m -p wget,pandas,numpy,geopy,altair,vega,vega_datasets, watermark\u001b[39m\u001b[38;5;124m'\u001b[39m)\n\u001b[1;32m      3\u001b[0m \u001b[38;5;28mprint\u001b[39m(\u001b[38;5;124m\"\u001b[39m\u001b[38;5;124m \u001b[39m\u001b[38;5;124m\"\u001b[39m)\n",
      "File \u001b[0;32m/usr/lib/python3/dist-packages/IPython/core/interactiveshell.py:2309\u001b[0m, in \u001b[0;36mInteractiveShell.run_line_magic\u001b[0;34m(self, magic_name, line, _stack_depth)\u001b[0m\n\u001b[1;32m   2307\u001b[0m     kwargs[\u001b[38;5;124m'\u001b[39m\u001b[38;5;124mlocal_ns\u001b[39m\u001b[38;5;124m'\u001b[39m] \u001b[38;5;241m=\u001b[39m \u001b[38;5;28mself\u001b[39m\u001b[38;5;241m.\u001b[39mget_local_scope(stack_depth)\n\u001b[1;32m   2308\u001b[0m \u001b[38;5;28;01mwith\u001b[39;00m \u001b[38;5;28mself\u001b[39m\u001b[38;5;241m.\u001b[39mbuiltin_trap:\n\u001b[0;32m-> 2309\u001b[0m     result \u001b[38;5;241m=\u001b[39m \u001b[43mfn\u001b[49m\u001b[43m(\u001b[49m\u001b[38;5;241;43m*\u001b[39;49m\u001b[43margs\u001b[49m\u001b[43m,\u001b[49m\u001b[43m \u001b[49m\u001b[38;5;241;43m*\u001b[39;49m\u001b[38;5;241;43m*\u001b[39;49m\u001b[43mkwargs\u001b[49m\u001b[43m)\u001b[49m\n\u001b[1;32m   2310\u001b[0m \u001b[38;5;28;01mreturn\u001b[39;00m result\n",
      "File \u001b[0;32m/usr/lib/python3/dist-packages/IPython/core/magics/extension.py:33\u001b[0m, in \u001b[0;36mExtensionMagics.load_ext\u001b[0;34m(self, module_str)\u001b[0m\n\u001b[1;32m     31\u001b[0m \u001b[38;5;28;01mif\u001b[39;00m \u001b[38;5;129;01mnot\u001b[39;00m module_str:\n\u001b[1;32m     32\u001b[0m     \u001b[38;5;28;01mraise\u001b[39;00m UsageError(\u001b[38;5;124m'\u001b[39m\u001b[38;5;124mMissing module name.\u001b[39m\u001b[38;5;124m'\u001b[39m)\n\u001b[0;32m---> 33\u001b[0m res \u001b[38;5;241m=\u001b[39m \u001b[38;5;28;43mself\u001b[39;49m\u001b[38;5;241;43m.\u001b[39;49m\u001b[43mshell\u001b[49m\u001b[38;5;241;43m.\u001b[39;49m\u001b[43mextension_manager\u001b[49m\u001b[38;5;241;43m.\u001b[39;49m\u001b[43mload_extension\u001b[49m\u001b[43m(\u001b[49m\u001b[43mmodule_str\u001b[49m\u001b[43m)\u001b[49m\n\u001b[1;32m     35\u001b[0m \u001b[38;5;28;01mif\u001b[39;00m res \u001b[38;5;241m==\u001b[39m \u001b[38;5;124m'\u001b[39m\u001b[38;5;124malready loaded\u001b[39m\u001b[38;5;124m'\u001b[39m:\n\u001b[1;32m     36\u001b[0m     \u001b[38;5;28mprint\u001b[39m(\u001b[38;5;124m\"\u001b[39m\u001b[38;5;124mThe \u001b[39m\u001b[38;5;132;01m%s\u001b[39;00m\u001b[38;5;124m extension is already loaded. To reload it, use:\u001b[39m\u001b[38;5;124m\"\u001b[39m \u001b[38;5;241m%\u001b[39m module_str)\n",
      "File \u001b[0;32m/usr/lib/python3/dist-packages/IPython/core/extensions.py:76\u001b[0m, in \u001b[0;36mExtensionManager.load_extension\u001b[0;34m(self, module_str)\u001b[0m\n\u001b[1;32m     69\u001b[0m \u001b[38;5;250m\u001b[39m\u001b[38;5;124;03m\"\"\"Load an IPython extension by its module name.\u001b[39;00m\n\u001b[1;32m     70\u001b[0m \n\u001b[1;32m     71\u001b[0m \u001b[38;5;124;03mReturns the string \"already loaded\" if the extension is already loaded,\u001b[39;00m\n\u001b[1;32m     72\u001b[0m \u001b[38;5;124;03m\"no load function\" if the module doesn't have a load_ipython_extension\u001b[39;00m\n\u001b[1;32m     73\u001b[0m \u001b[38;5;124;03mfunction, or None if it succeeded.\u001b[39;00m\n\u001b[1;32m     74\u001b[0m \u001b[38;5;124;03m\"\"\"\u001b[39;00m\n\u001b[1;32m     75\u001b[0m \u001b[38;5;28;01mtry\u001b[39;00m:\n\u001b[0;32m---> 76\u001b[0m     \u001b[38;5;28;01mreturn\u001b[39;00m \u001b[38;5;28;43mself\u001b[39;49m\u001b[38;5;241;43m.\u001b[39;49m\u001b[43m_load_extension\u001b[49m\u001b[43m(\u001b[49m\u001b[43mmodule_str\u001b[49m\u001b[43m)\u001b[49m\n\u001b[1;32m     77\u001b[0m \u001b[38;5;28;01mexcept\u001b[39;00m \u001b[38;5;167;01mModuleNotFoundError\u001b[39;00m:\n\u001b[1;32m     78\u001b[0m     \u001b[38;5;28;01mif\u001b[39;00m module_str \u001b[38;5;129;01min\u001b[39;00m BUILTINS_EXTS:\n",
      "File \u001b[0;32m/usr/lib/python3/dist-packages/IPython/core/extensions.py:92\u001b[0m, in \u001b[0;36mExtensionManager._load_extension\u001b[0;34m(self, module_str)\u001b[0m\n\u001b[1;32m     90\u001b[0m \u001b[38;5;28;01mif\u001b[39;00m module_str \u001b[38;5;129;01mnot\u001b[39;00m \u001b[38;5;129;01min\u001b[39;00m sys\u001b[38;5;241m.\u001b[39mmodules:\n\u001b[1;32m     91\u001b[0m     \u001b[38;5;28;01mwith\u001b[39;00m prepended_to_syspath(\u001b[38;5;28mself\u001b[39m\u001b[38;5;241m.\u001b[39mipython_extension_dir):\n\u001b[0;32m---> 92\u001b[0m         mod \u001b[38;5;241m=\u001b[39m \u001b[43mimport_module\u001b[49m\u001b[43m(\u001b[49m\u001b[43mmodule_str\u001b[49m\u001b[43m)\u001b[49m\n\u001b[1;32m     93\u001b[0m         \u001b[38;5;28;01mif\u001b[39;00m mod\u001b[38;5;241m.\u001b[39m\u001b[38;5;18m__file__\u001b[39m\u001b[38;5;241m.\u001b[39mstartswith(\u001b[38;5;28mself\u001b[39m\u001b[38;5;241m.\u001b[39mipython_extension_dir):\n\u001b[1;32m     94\u001b[0m             \u001b[38;5;28mprint\u001b[39m((\u001b[38;5;124m\"\u001b[39m\u001b[38;5;124mLoading extensions from \u001b[39m\u001b[38;5;132;01m{dir}\u001b[39;00m\u001b[38;5;124m is deprecated. \u001b[39m\u001b[38;5;124m\"\u001b[39m\n\u001b[1;32m     95\u001b[0m                    \u001b[38;5;124m\"\u001b[39m\u001b[38;5;124mWe recommend managing extensions like any \u001b[39m\u001b[38;5;124m\"\u001b[39m\n\u001b[1;32m     96\u001b[0m                    \u001b[38;5;124m\"\u001b[39m\u001b[38;5;124mother Python packages, in site-packages.\u001b[39m\u001b[38;5;124m\"\u001b[39m)\u001b[38;5;241m.\u001b[39mformat(\n\u001b[1;32m     97\u001b[0m                   \u001b[38;5;28mdir\u001b[39m\u001b[38;5;241m=\u001b[39mcompress_user(\u001b[38;5;28mself\u001b[39m\u001b[38;5;241m.\u001b[39mipython_extension_dir)))\n",
      "File \u001b[0;32m/usr/lib/python3.11/importlib/__init__.py:126\u001b[0m, in \u001b[0;36mimport_module\u001b[0;34m(name, package)\u001b[0m\n\u001b[1;32m    124\u001b[0m             \u001b[38;5;28;01mbreak\u001b[39;00m\n\u001b[1;32m    125\u001b[0m         level \u001b[38;5;241m+\u001b[39m\u001b[38;5;241m=\u001b[39m \u001b[38;5;241m1\u001b[39m\n\u001b[0;32m--> 126\u001b[0m \u001b[38;5;28;01mreturn\u001b[39;00m \u001b[43m_bootstrap\u001b[49m\u001b[38;5;241;43m.\u001b[39;49m\u001b[43m_gcd_import\u001b[49m\u001b[43m(\u001b[49m\u001b[43mname\u001b[49m\u001b[43m[\u001b[49m\u001b[43mlevel\u001b[49m\u001b[43m:\u001b[49m\u001b[43m]\u001b[49m\u001b[43m,\u001b[49m\u001b[43m \u001b[49m\u001b[43mpackage\u001b[49m\u001b[43m,\u001b[49m\u001b[43m \u001b[49m\u001b[43mlevel\u001b[49m\u001b[43m)\u001b[49m\n",
      "File \u001b[0;32m<frozen importlib._bootstrap>:1206\u001b[0m, in \u001b[0;36m_gcd_import\u001b[0;34m(name, package, level)\u001b[0m\n",
      "File \u001b[0;32m<frozen importlib._bootstrap>:1178\u001b[0m, in \u001b[0;36m_find_and_load\u001b[0;34m(name, import_)\u001b[0m\n",
      "File \u001b[0;32m<frozen importlib._bootstrap>:1142\u001b[0m, in \u001b[0;36m_find_and_load_unlocked\u001b[0;34m(name, import_)\u001b[0m\n",
      "\u001b[0;31mModuleNotFoundError\u001b[0m: No module named 'watermark'"
     ]
    }
   ],
   "source": [
    "%load_ext watermark\n",
    "%watermark -v -m -p wget,pandas,numpy,geopy,altair,vega,vega_datasets, watermark\n",
    "print(\" \")\n",
    "%watermark -u -n -t -z"
   ]
  },
  {
   "cell_type": "code",
   "execution_count": null,
   "id": "d58141e1",
   "metadata": {},
   "outputs": [],
   "source": []
  }
 ],
 "metadata": {
  "kernelspec": {
   "display_name": "Python 3 (ipykernel)",
   "language": "python",
   "name": "python3"
  },
  "language_info": {
   "codemirror_mode": {
    "name": "ipython",
    "version": 3
   },
   "file_extension": ".py",
   "mimetype": "text/x-python",
   "name": "python",
   "nbconvert_exporter": "python",
   "pygments_lexer": "ipython3",
   "version": "3.11.2"
  }
 },
 "nbformat": 4,
 "nbformat_minor": 5
}
